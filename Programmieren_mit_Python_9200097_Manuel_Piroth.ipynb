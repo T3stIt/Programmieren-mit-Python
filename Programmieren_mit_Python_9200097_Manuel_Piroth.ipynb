{
 "cells": [
  {
   "cell_type": "markdown",
   "metadata": {},
   "source": [
    "# Programmieren mit Python (DLMDWPMP01)\n",
    "\n",
    "# Data Science\n",
    "\n",
    "# Vorgelegt von: Manuel Piroth\n",
    "\n",
    "# E-Mail: manuel.piroth@iu-study.org\n",
    "\n",
    "# Matrikelnummer: 9200097 \n",
    "\n",
    "# Tutor: Stephan Führer\n",
    "\n",
    "# Wissenschaftliche Leitung: Prof. Dr. Kamal Bhattacharya"
   ]
  },
  {
   "cell_type": "markdown",
   "metadata": {},
   "source": [
    "### Bibliotheken importieren"
   ]
  },
  {
   "cell_type": "code",
   "execution_count": 1,
   "metadata": {},
   "outputs": [],
   "source": [
    "# Datenbank\n",
    "import csv\n",
    "import sqlalchemy as db\n",
    "\n",
    "# Datenverarbeitung\n",
    "import pandas as pd\n",
    "import scipy\n",
    "\n",
    "# Datenvisualisierung\n",
    "import bokeh\n",
    "import matplotlib as plt\n",
    "import seaborn as sns"
   ]
  },
  {
   "cell_type": "markdown",
   "metadata": {},
   "source": [
    "### Variablen"
   ]
  },
  {
   "cell_type": "code",
   "execution_count": 2,
   "metadata": {},
   "outputs": [],
   "source": [
    "pfad_Trainingsdatensatz_1 = 'C:\\\\Users\\\\Manu\\\\Desktop\\\\Studium\\\\Master of Science\\\\Data Science\\\\Semester\\\\2. Semester\\\\Programmieren mit Python\\\\Aufgabe\\\\Daten\\\\Trainingsdaten\\\\1Train.csv'\n",
    "pfad_Trainingsdatensatz_2 = 'C:\\\\Users\\\\Manu\\\\Desktop\\\\Studium\\\\Master of Science\\\\Data Science\\\\Semester\\\\2. Semester\\\\Programmieren mit Python\\\\Aufgabe\\\\Daten\\\\Trainingsdaten\\\\2Train.csv'\n",
    "pfad_Trainingsdatensatz_3 = 'C:\\\\Users\\\\Manu\\\\Desktop\\\\Studium\\\\Master of Science\\\\Data Science\\\\Semester\\\\2. Semester\\\\Programmieren mit Python\\\\Aufgabe\\\\Daten\\\\Trainingsdaten\\\\3Train.csv'\n",
    "pfad_Trainingsdatensatz_4 = 'C:\\\\Users\\\\Manu\\\\Desktop\\\\Studium\\\\Master of Science\\\\Data Science\\\\Semester\\\\2. Semester\\\\Programmieren mit Python\\\\Aufgabe\\\\Daten\\\\Trainingsdaten\\\\4Train.csv'\n",
    "\n",
    "pfad_Testdatensatz = 'C:\\\\Users\\\\Manu\\\\Desktop\\\\Studium\\\\Master of Science\\\\Data Science\\\\Semester\\\\2. Semester\\\\Programmieren mit Python\\\\Aufgabe\\\\Daten\\\\Testdaten\\\\Test.csv'\n",
    "\n",
    "pfad_Funktionsdatensatz = 'C:\\\\Users\\\\Manu\\\\Desktop\\\\Studium\\\\Master of Science\\\\Data Science\\\\Semester\\\\2. Semester\\\\Programmieren mit Python\\\\Aufgabe\\\\Daten\\\\Funktionsdatensatz\\\\Funktionen.csv'"
   ]
  },
  {
   "cell_type": "markdown",
   "metadata": {},
   "source": [
    "### Datenbank erstellen"
   ]
  },
  {
   "cell_type": "code",
   "execution_count": null,
   "metadata": {},
   "outputs": [],
   "source": [
    "class datenbank():\n",
    "    def __init__(self, pfad_Trainingsdatensatz_1,\n",
    "                       pfad_Trainingsdatensatz_2,\n",
    "                       pfad_Trainingsdatensatz_3,\n",
    "                       pfad_Trainingsdatensatz_4):\n",
    "        self.Pfad_Trainingsdaten_1 = pfad_Trainingsdatensatz_1\n",
    "        self.Pfad_Trainingsdaten_2 = pfad_Trainingsdatensatz_2\n",
    "        self.Pfad_Trainingsdaten_3 = pfad_Trainingsdatensatz_3\n",
    "        self.Pfad_Trainingsdaten_4 = pfad_Trainingsdatensatz_4\n",
    "    \n",
    "    def tabellen_erzeugen_befüllen():\n",
    "        # Engine-Objekte erzeugen\n",
    "        engine_Train1 = db.create_engine('sqlite:///Train1.db')\n",
    "        engine_Train2 = db.create_engine('sqlite:///Train2.db')\n",
    "        engine_Train3 = db.create_engine('sqlite:///Train3.db')\n",
    "        engine_Train4 = db.create_engine('sqlite:///Train4.db')\n",
    "        \n",
    "        engine_Funktionen = db.create_engine('sqlite:///Funktionen.db')\n",
    "        \n",
    "        engine_Ergebnisse = db.create_engine('sqlite:///Ergebnisse.db')\n",
    "        \n",
    "        # Verbindungsobjekte erzeugen  \n",
    "        connection_Train1 = engine_Train1.connect()\n",
    "        connection_Train2 = engine_Train2.connect()\n",
    "        connection_Train3 = engine_Train3.connect()\n",
    "        connection_Train4 = engine_Train4.connect()\n",
    "        \n",
    "        connection_Funktionen = engine_Funktionen.connect()\n",
    "        \n",
    "        connection_Ergebnisse = engine_Ergebnisse.connect()\n",
    "        \n",
    "        # Metadaten-Objekt erzeugen\n",
    "        meta_data_Train1 = db.MetaData()\n",
    "        meta_data_Train2 = db.MetaData()\n",
    "        meta_data_Train3 = db.MetaData()\n",
    "        meta_data_Train4 = db.MetaData()\n",
    "        \n",
    "        meta_data_Funktionen = db.MetaData()\n",
    "        \n",
    "        meta_data_Ergebnisse = db.MetaData()\n",
    "        \n",
    "        # Tabellen erstellen\n",
    "        Train1 = db.Table(\"Train1\", meta_data_Train1,\n",
    "                         db.Column(\"x\", db.Integer),\n",
    "                         db.Column(\"Y1 (Training Funktion)\", db.Integer),\n",
    "                         db.Column(\"Y2 (Training Funktion)\", db.Integer),\n",
    "                         db.Column(\"Y3 (Training Funktion)\", db.Integer),\n",
    "                         db.Column(\"Y4 (Training Funktion)\", db.Integer))\n",
    "        \n",
    "        Train2 = db.Table(\"Train2\", meta_data_Train2,\n",
    "                         db.Column(\"x\", db.Integer),\n",
    "                         db.Column(\"Y1 (Training Funktion)\", db.Integer),\n",
    "                         db.Column(\"Y2 (Training Funktion)\", db.Integer),\n",
    "                         db.Column(\"Y3 (Training Funktion)\", db.Integer),\n",
    "                         db.Column(\"Y4 (Training Funktion)\", db.Integer))\n",
    "        \n",
    "        Train3 = db.Table(\"Train3\", meta_data_Train3,\n",
    "                         db.Column(\"x\", db.Integer),\n",
    "                         db.Column(\"Y1 (Training Funktion)\", db.Integer),\n",
    "                         db.Column(\"Y2 (Training Funktion)\", db.Integer),\n",
    "                         db.Column(\"Y3 (Training Funktion)\", db.Integer),\n",
    "                         db.Column(\"Y4 (Training Funktion)\", db.Integer))\n",
    "        \n",
    "        Train4 = db.Table(\"Train4\", meta_data_Train4,\n",
    "                         db.Column(\"x\", db.Integer),\n",
    "                         db.Column(\"Y1 (Training Funktion)\", db.Integer),\n",
    "                         db.Column(\"Y2 (Training Funktion)\", db.Integer),\n",
    "                         db.Column(\"Y3 (Training Funktion)\", db.Integer),\n",
    "                         db.Column(\"Y4 (Training Funktion)\", db.Integer))\n",
    "        \n",
    "        Funktionen = db.Table(\"Funktionen\", meta_data_Train1,\n",
    "                         db.Column(\"X\", db.Integer),\n",
    "                         db.Column(\"Y1 (Ideale Funktion)\", db.Integer),\n",
    "                         db.Column(\"Y2 (Ideale Funktion)\", db.Integer),\n",
    "                         db.Column(\"Y3 (Ideale Funktion)\", db.Integer),\n",
    "                         db.Column(\"Y4 (Ideale Funktion)\", db.Integer),\n",
    "                         db.Column(\"Y5 (Ideale Funktion)\", db.Integer),\n",
    "                         db.Column(\"Y6 (Ideale Funktion)\", db.Integer),\n",
    "                         db.Column(\"Y7 (Ideale Funktion)\", db.Integer),\n",
    "                         db.Column(\"Y8 (Ideale Funktion)\", db.Integer),\n",
    "                         db.Column(\"Y9 (Ideale Funktion)\", db.Integer),\n",
    "                         db.Column(\"Y10 (Ideale Funktion)\", db.Integer),\n",
    "                         db.Column(\"Y11 (Ideale Funktion)\", db.Integer),\n",
    "                         db.Column(\"Y12 (Ideale Funktion)\", db.Integer),\n",
    "                         db.Column(\"Y13 (Ideale Funktion)\", db.Integer),\n",
    "                         db.Column(\"Y14 (Ideale Funktion)\", db.Integer),\n",
    "                         db.Column(\"Y15 (Ideale Funktion)\", db.Integer),\n",
    "                         db.Column(\"Y16 (Ideale Funktion)\", db.Integer),\n",
    "                         db.Column(\"Y17 (Ideale Funktion)\", db.Integer),\n",
    "                         db.Column(\"Y18 (Ideale Funktion)\", db.Integer),\n",
    "                         db.Column(\"Y19 (Ideale Funktion)\", db.Integer),\n",
    "                         db.Column(\"Y20 (Ideale Funktion)\", db.Integer),\n",
    "                         db.Column(\"Y21 (Ideale Funktion)\", db.Integer),\n",
    "                         db.Column(\"Y22 (Ideale Funktion)\", db.Integer),\n",
    "                         db.Column(\"Y23 (Ideale Funktion)\", db.Integer),\n",
    "                         db.Column(\"Y24 (Ideale Funktion)\", db.Integer),\n",
    "                         db.Column(\"Y25 (Ideale Funktion)\", db.Integer),\n",
    "                         db.Column(\"Y26 (Ideale Funktion)\", db.Integer),\n",
    "                         db.Column(\"Y27 (Ideale Funktion)\", db.Integer),\n",
    "                         db.Column(\"Y28 (Ideale Funktion)\", db.Integer),\n",
    "                         db.Column(\"Y29 (Ideale Funktion)\", db.Integer),\n",
    "                         db.Column(\"Y30 (Ideale Funktion)\", db.Integer),\n",
    "                         db.Column(\"Y31 (Ideale Funktion)\", db.Integer),\n",
    "                         db.Column(\"Y32 (Ideale Funktion)\", db.Integer),\n",
    "                         db.Column(\"Y33 (Ideale Funktion)\", db.Integer),\n",
    "                         db.Column(\"Y34 (Ideale Funktion)\", db.Integer),\n",
    "                         db.Column(\"Y35 (Ideale Funktion)\", db.Integer),\n",
    "                         db.Column(\"Y36 (Ideale Funktion)\", db.Integer),\n",
    "                         db.Column(\"Y37 (Ideale Funktion)\", db.Integer),\n",
    "                         db.Column(\"Y38 (Ideale Funktion)\", db.Integer),\n",
    "                         db.Column(\"Y39 (Ideale Funktion)\", db.Integer),\n",
    "                         db.Column(\"Y40 (Ideale Funktion)\", db.Integer),\n",
    "                         db.Column(\"Y41 (Ideale Funktion)\", db.Integer),\n",
    "                         db.Column(\"Y42 (Ideale Funktion)\", db.Integer),\n",
    "                         db.Column(\"Y43 (Ideale Funktion)\", db.Integer),\n",
    "                         db.Column(\"Y44 (Ideale Funktion)\", db.Integer),\n",
    "                         db.Column(\"Y45 (Ideale Funktion)\", db.Integer),\n",
    "                         db.Column(\"Y46 (Ideale Funktion)\", db.Integer),\n",
    "                         db.Column(\"Y47 (Ideale Funktion)\", db.Integer),\n",
    "                         db.Column(\"Y48 (Ideale Funktion)\", db.Integer),\n",
    "                         db.Column(\"Y49 (Ideale Funktion)\", db.Integer),\n",
    "                         db.Column(\"Y50 (Ideale Funktion)\", db.Integer))\n",
    "        \n",
    "        Ergebnisse = db.Table(\"Ergebnisse\", meta_data_Ergebnisse,\n",
    "                         db.Column(\"X\", db.Integer),        \n",
    "                         db.Column(\"X (Test Funktion)\", db.Integer),\n",
    "                         db.Column(\"Y1 (Test Funktion)\", db.Integer),\n",
    "                         db.Column(\"Delta Y (Abweichung)\", db.Integer),\n",
    "                         db.Column(\"Nummer der Idealen Funktion (FunkXX)\", db.Integer))\n",
    "        \n",
    "        # ---------------------------------------------------------------------------------\n",
    "        \n",
    "        meta_data_Train1.create_all(engine_Train1)\n",
    "        meta_data_Train2.create_all(engine_Train2)\n",
    "        meta_data_Train3.create_all(engine_Train3)\n",
    "        meta_data_Train4.create_all(engine_Train4)\n",
    "            \n",
    "        meta_data_Funktionen.create_all(engine_Funktionen)\n",
    "           \n",
    "        meta_data_Ergebnisse.create_all(engine_Ergebnisse)\n",
    "        \n",
    "        # ---------------------------------------------------------------------------------\n",
    "        \n",
    "        sql_query_Train1 = db.insert(Train1)\n",
    "        sql_query_Train2 = db.insert(Train2)\n",
    "        sql_query_Train3 = db.insert(Train3)\n",
    "        sql_query_Train4 = db.insert(Train4)\n",
    "        \n",
    "        sql_query_Funktionen = db.insert(Funktionen)\n",
    "        \n",
    "        sql_query_Ergebnisse = db.insert(Ergebnisse)\n",
    "        \n",
    "        # ---------------------------------------------------------------------------------\n",
    "        \n",
    "        trainingsdatensatz_1_liste = []\n",
    "        # Datei mit \"with\" öffnen\n",
    "        with open(pfad_Trainingsdatensatz_1, 'r') as td1:\n",
    "\n",
    "            for zeile_td1 in csv.DictReader(td1):\n",
    "                dict_von_csv_td1 = dict(zeile_td1)\n",
    "                trainingsdatensatz_1_liste.append(dict_von_csv)\n",
    "                \n",
    "        trainingsdatensatz_2_liste = []\n",
    "        # Datei mit \"with\" öffnen\n",
    "        with open(pfad_Trainingsdatensatz_2, 'r') as td2:\n",
    "\n",
    "            for zeile_td2 in csv.DictReader(td2):\n",
    "                dict_von_csv_td2 = dict(zeile_td2)\n",
    "                trainingsdatensatz_2_liste.append(dict_von_csv_td2)\n",
    "                \n",
    "        trainingsdatensatz_3_liste = []\n",
    "        # Datei mit \"with\" öffnen\n",
    "        with open(pfad_Trainingsdatensatz_3, 'r') as td3:\n",
    "\n",
    "            for zeile_td3 in csv.DictReader(td3):\n",
    "                dict_von_csv_td3 = dict(zeile_td3)\n",
    "                trainingsdatensatz_3_liste.append(dict_von_csv_td3)\n",
    "                \n",
    "        trainingsdatensatz_4_liste = []\n",
    "        # Datei mit \"with\" öffnen\n",
    "        with open(pfad_Trainingsdatensatz_4, 'r') as td4:\n",
    "\n",
    "            for zeile_td4 in csv.DictReader(td4):\n",
    "                dict_von_csv_td4 = dict(zeile_td4)\n",
    "                trainingsdatensatz_4_liste.append(dict_von_csv_td4)\n",
    "                \n",
    "        funktionen_liste = []\n",
    "        # Datei mit \"with\" öffnen\n",
    "        with open(pfad_Funktionsdatensatz, 'r') as fd:\n",
    "\n",
    "            for zeile_fd in csv.DictReader(fd):\n",
    "                dict_von_csv_fd = dict(zeile_fd)\n",
    "                funktionen_liste.append(dict_von_csv_fd)\n",
    "                \n",
    "        # ---------------------------------------------------------------------------------\n",
    "        \n",
    "        # Insert-Anweisung ausführen\n",
    "        result_Train1 = connection.execute(sql_query_Train1, trainingsdatensatz_1_liste)\n",
    "        result_Train2 = connection.execute(sql_query_Train2, trainingsdatensatz_2_liste)\n",
    "        result_Train3 = connection.execute(sql_query_Train3, trainingsdatensatz_3_liste)\n",
    "        result_Train4 = connection.execute(sql_query_Train4, trainingsdatensatz_4_liste)\n",
    "        \n",
    "        result_Funktionen = connection.execute(sql_query_Funktionen, funktionen_liste)"
   ]
  },
  {
   "cell_type": "markdown",
   "metadata": {},
   "source": [
    "### Daten laden"
   ]
  },
  {
   "cell_type": "code",
   "execution_count": null,
   "metadata": {},
   "outputs": [],
   "source": [
    "class trainingsdaten_laden(): \n",
    "    def __init__(self, pfad, engine, connection, metadata, trainingsdaten):\n",
    "        self.Pfad = pfad\n",
    "        \n",
    "        self.Engine = engine\n",
    "        self.Connection = connection\n",
    "        self.Metadata = metadata\n",
    "        \n",
    "        self.Trainingsdaten = trainingsdaten\n",
    "        \n",
    "    def daten_laden(self, Pfad):\n",
    "        pass"
   ]
  },
  {
   "cell_type": "code",
   "execution_count": null,
   "metadata": {},
   "outputs": [],
   "source": []
  },
  {
   "cell_type": "code",
   "execution_count": null,
   "metadata": {},
   "outputs": [],
   "source": [
    "class testdaten_laden(trainingsdaten_laden):\n",
    "        pass"
   ]
  },
  {
   "cell_type": "code",
   "execution_count": null,
   "metadata": {},
   "outputs": [],
   "source": [
    "class funktionen_laden(trainingsdaten_laden):\n",
    "        pass"
   ]
  },
  {
   "cell_type": "markdown",
   "metadata": {},
   "source": [
    "### Modell trainieren"
   ]
  },
  {
   "cell_type": "code",
   "execution_count": null,
   "metadata": {},
   "outputs": [],
   "source": [
    "# https://python4mpia.github.io/fitting_data/least-squares-fitting.html"
   ]
  },
  {
   "cell_type": "code",
   "execution_count": null,
   "metadata": {},
   "outputs": [],
   "source": []
  },
  {
   "cell_type": "code",
   "execution_count": null,
   "metadata": {},
   "outputs": [],
   "source": []
  },
  {
   "cell_type": "code",
   "execution_count": null,
   "metadata": {},
   "outputs": [],
   "source": []
  },
  {
   "cell_type": "markdown",
   "metadata": {},
   "source": [
    "### Modell testen"
   ]
  },
  {
   "cell_type": "code",
   "execution_count": null,
   "metadata": {},
   "outputs": [],
   "source": [
    "# Idealfunktion 1"
   ]
  },
  {
   "cell_type": "code",
   "execution_count": null,
   "metadata": {},
   "outputs": [],
   "source": [
    "# Idealfunktion 2"
   ]
  },
  {
   "cell_type": "code",
   "execution_count": null,
   "metadata": {},
   "outputs": [],
   "source": [
    "# Idealfunktion 3"
   ]
  },
  {
   "cell_type": "code",
   "execution_count": null,
   "metadata": {},
   "outputs": [],
   "source": [
    "# Idealfunktion 4"
   ]
  },
  {
   "cell_type": "markdown",
   "metadata": {},
   "source": [
    "### Visualisierungen"
   ]
  },
  {
   "cell_type": "code",
   "execution_count": null,
   "metadata": {},
   "outputs": [],
   "source": [
    "# Trainingsdaten"
   ]
  },
  {
   "cell_type": "code",
   "execution_count": null,
   "metadata": {},
   "outputs": [],
   "source": [
    "# Testdaten"
   ]
  },
  {
   "cell_type": "code",
   "execution_count": null,
   "metadata": {},
   "outputs": [],
   "source": [
    "# Gewählte Idealfunktionen"
   ]
  },
  {
   "cell_type": "code",
   "execution_count": null,
   "metadata": {},
   "outputs": [],
   "source": [
    "# Zugewiesene Datensätze mit gewählter Darstellung"
   ]
  }
 ],
 "metadata": {
  "kernelspec": {
   "display_name": "Python 3",
   "language": "python",
   "name": "python3"
  },
  "language_info": {
   "codemirror_mode": {
    "name": "ipython",
    "version": 3
   },
   "file_extension": ".py",
   "mimetype": "text/x-python",
   "name": "python",
   "nbconvert_exporter": "python",
   "pygments_lexer": "ipython3",
   "version": "3.7.7"
  }
 },
 "nbformat": 4,
 "nbformat_minor": 4
}
